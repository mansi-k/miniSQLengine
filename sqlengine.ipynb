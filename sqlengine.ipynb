{
 "cells": [
  {
   "cell_type": "code",
   "execution_count": 44,
   "metadata": {},
   "outputs": [],
   "source": [
    "import csv\n"
   ]
  },
  {
   "cell_type": "code",
   "execution_count": 66,
   "metadata": {},
   "outputs": [],
   "source": [
    "def extract_metadata():\n",
    "    path = \"\"\n",
    "    metafile = open('files/metadata.txt', 'r') \n",
    "    metalines = metafile.readlines() \n",
    "    tables_dict = {}\n",
    "    is_rec = False\n",
    "    is_tname = False\n",
    "    cur_table = \"\"\n",
    "    for line in metalines:\n",
    "        if line.startswith('<begin_table>'):\n",
    "            is_rec = True\n",
    "            is_tname = True\n",
    "        elif line.startswith('<end_table>'):\n",
    "            if_rec = False\n",
    "        elif is_tname:\n",
    "            cur_table = str(line).strip()\n",
    "            tables_dict[cur_table] = {}\n",
    "            is_tname = False\n",
    "        else:\n",
    "            tables_dict[cur_table][str(line).strip()] = []\n",
    "    return tables_dict\n",
    "            \n",
    "def extract_csvdata(tables_dict):\n",
    "    tables_data = tables_dict\n",
    "    for tn,cl in tables_dict.items(): \n",
    "        with open('files/'+tn+'.csv', newline='') as table_file:\n",
    "            all_data = csv.reader(table_file,delimiter=',')\n",
    "#             print(all_data)\n",
    "            for row in all_data:\n",
    "                for c,i in zip(cl,range(len(cl))):\n",
    "                    tables_data[tn][c].append(int(row[i]))\n",
    "    return tables_data\n",
    "    "
   ]
  },
  {
   "cell_type": "code",
   "execution_count": 67,
   "metadata": {},
   "outputs": [
    {
     "name": "stdout",
     "output_type": "stream",
     "text": [
      "{'table1': {'A': [], 'B': [], 'C': []}, 'table2': {'D': [], 'E': []}}\n",
      "{'table1': {'A': [922, 640, 775, -551, -952, -354, -497, 411, -900, 858], 'B': [158, 773, 85, 811, 311, 646, 335, 803, 718, 731], 'C': [5727, 5058, 10164, 1534, 1318, 7063, 4549, 10519, 9020, 3668]}, 'table2': {'D': [158, 773, 85, 811, 311, 646, 335, 803, 718, 731], 'E': [11191, 14421, 5117, 13393, 16116, 5403, 6309, 12262, 10226, 13021]}}\n"
     ]
    }
   ],
   "source": [
    "tables_dict = extract_metadata()\n",
    "print(tables_dict)\n",
    "tables_data = extract_csvdata(tables_dict)\n",
    "print(tables_data)"
   ]
  },
  {
   "cell_type": "code",
   "execution_count": null,
   "metadata": {},
   "outputs": [],
   "source": []
  },
  {
   "cell_type": "code",
   "execution_count": null,
   "metadata": {},
   "outputs": [],
   "source": []
  }
 ],
 "metadata": {
  "kernelspec": {
   "display_name": "Python 3",
   "language": "python",
   "name": "python3"
  },
  "language_info": {
   "codemirror_mode": {
    "name": "ipython",
    "version": 3
   },
   "file_extension": ".py",
   "mimetype": "text/x-python",
   "name": "python",
   "nbconvert_exporter": "python",
   "pygments_lexer": "ipython3",
   "version": "3.6.5"
  }
 },
 "nbformat": 4,
 "nbformat_minor": 2
}
