{
 "cells": [
  {
   "cell_type": "code",
   "execution_count": 14,
   "metadata": {},
   "outputs": [],
   "source": [
    "import csv\n",
    "import sqlparse as sp\n",
    "from sqlparse.sql import IdentifierList, Identifier, Where\n",
    "from sqlparse.tokens import Keyword, DML, Newline, Whitespace, Text"
   ]
  },
  {
   "cell_type": "code",
   "execution_count": 2,
   "metadata": {},
   "outputs": [],
   "source": [
    "'''Data loading functions'''\n",
    "\n",
    "def extract_metadata():\n",
    "    path = \"\"\n",
    "    metafile = open('files/metadata.txt', 'r') \n",
    "    metalines = metafile.readlines() \n",
    "    tables_dict = {}\n",
    "    tables_meta = {}\n",
    "    tables_list = {}\n",
    "    is_rec = False\n",
    "    is_tname = False\n",
    "    cur_table = \"\"\n",
    "    for line in metalines:\n",
    "        if line.startswith('<begin_table>'):\n",
    "            is_rec = True\n",
    "            is_tname = True\n",
    "        elif line.startswith('<end_table>'):\n",
    "            if_rec = False\n",
    "        elif is_tname:\n",
    "            cur_table = str(line).strip()\n",
    "            tables_dict[cur_table] = {}\n",
    "            tables_meta[cur_table] = []\n",
    "            tables_list[cur_table] = []\n",
    "            is_tname = False\n",
    "        else:\n",
    "            tables_dict[cur_table][str(line).strip()] = []\n",
    "            tables_meta[cur_table].append(str(line).strip())\n",
    "    return tables_meta,tables_dict,tables_list\n",
    "            \n",
    "def extract_csvdata_bycols(tables_dict):\n",
    "    tables_data = tables_dict\n",
    "    for tn,cl in tables_dict.items(): \n",
    "        with open('files/'+tn+'.csv', newline='') as table_file:\n",
    "            all_data = csv.reader(table_file,delimiter=',')\n",
    "#             print(all_data)\n",
    "            for row in all_data:\n",
    "                for c,i in zip(cl,range(len(cl))):\n",
    "                    tables_data[tn][c].append(int(row[i]))\n",
    "    return tables_data\n",
    "\n",
    "def extract_csvdata_byrows(tables_list):\n",
    "    tables_data = tables_list\n",
    "    for tn in tables_list: \n",
    "        with open('files/'+tn+'.csv', newline='') as table_file:\n",
    "            all_data = csv.reader(table_file,delimiter=',')\n",
    "#             print(all_data)\n",
    "            for row in all_data:\n",
    "                tables_data[tn].append([int(x) for x in row])\n",
    "    return tables_data\n",
    "    "
   ]
  },
  {
   "cell_type": "code",
   "execution_count": 3,
   "metadata": {},
   "outputs": [
    {
     "name": "stdout",
     "output_type": "stream",
     "text": [
      "{'table1': ['A', 'B', 'C'], 'table2': ['D', 'E']}\n",
      "{'table1': [], 'table2': []}\n",
      "{'table1': {'A': [922, 640, 775, -551, -952, -354, -497, 411, -900, 858], 'B': [158, 773, 85, 811, 311, 646, 335, 803, 718, 731], 'C': [5727, 5058, 10164, 1534, 1318, 7063, 4549, 10519, 9020, 3668]}, 'table2': {'D': [158, 773, 85, 811, 311, 646, 335, 803, 718, 731], 'E': [11191, 14421, 5117, 13393, 16116, 5403, 6309, 12262, 10226, 13021]}}\n",
      "{'table1': [[922, 158, 5727], [640, 773, 5058], [775, 85, 10164], [-551, 811, 1534], [-952, 311, 1318], [-354, 646, 7063], [-497, 335, 4549], [411, 803, 10519], [-900, 718, 9020], [858, 731, 3668]], 'table2': [[158, 11191], [773, 14421], [85, 5117], [811, 13393], [311, 16116], [646, 5403], [335, 6309], [803, 12262], [718, 10226], [731, 13021]]}\n"
     ]
    }
   ],
   "source": [
    "tables_meta,tables_dict,tables_list = extract_metadata()\n",
    "print(tables_meta)\n",
    "print(tables_list)\n",
    "tables_data_bycols = extract_csvdata_bycols(tables_dict)\n",
    "print(tables_data_bycols)\n",
    "tables_data_byrows = extract_csvdata_byrows(tables_list)\n",
    "print(tables_data_byrows)"
   ]
  },
  {
   "cell_type": "code",
   "execution_count": 28,
   "metadata": {},
   "outputs": [],
   "source": [
    "'''SQL functions'''\n",
    "\n",
    "def remove_wspaces(parsed_sql):\n",
    "    modf_parsed_sql = []\n",
    "    for token in parsed_sql:\n",
    "        if token.is_whitespace:\n",
    "            continue\n",
    "        modf_parsed_sql.append(token)\n",
    "    return modf_parsed_sql\n",
    "\n",
    "# def fn_select(qry_token_list):\n",
    "\n",
    "\n",
    "def process_where(where_stmnt):\n",
    "#     where_stmnt = sp.parse(where_stmnt)[0]\n",
    "    w_conditions = []\n",
    "    print(\"@@@@@@@@@@@\",where_stmnt.tokens)\n",
    "    modf_where_stmnt = remove_wspaces(where_stmnt)\n",
    "    for w in modf_where_stmnt:\n",
    "        print(w,w.ttype)\n",
    "        \n",
    "    return w_conditions\n",
    "#     curr_token = \"\"\n",
    "#     cndt_and,cndt_or = [],[]\n",
    "#     for token in \n",
    "    \n",
    "    \n",
    "\n",
    "def process_query(parsed_sql):\n",
    "    modf_parsed_sql = remove_wspaces(parsed_sql)\n",
    "#     modf_parsed_sql = parsed_sql\n",
    "    print(modf_parsed_sql)\n",
    "    curr_token = \"\"\n",
    "    q_columns,q_tables,q_conditions = [],[],[]\n",
    "    for token in modf_parsed_sql:\n",
    "        print('====================',token,token.value,token.ttype)\n",
    "        if token.ttype is DML and token.value == 'select':\n",
    "            curr_token = 'select'\n",
    "            continue\n",
    "        if token.ttype is Keyword and token.value == 'from':\n",
    "#             print('fffffffffffff')\n",
    "            curr_token = 'from'\n",
    "            continue\n",
    "        if isinstance(token,Where):\n",
    "            print(\"WWWWWW\")\n",
    "            curr_token = 'where'\n",
    "            process_where(token)\n",
    "            continue\n",
    "        if curr_token == 'select':\n",
    "            q_columns = token\n",
    "        elif curr_token == 'from':\n",
    "#             print(\"++++++++\",token)\n",
    "            q_tables = token\n",
    "            \n",
    "#     print(\"%%%%%%%%%%%%\",str(modf_parsed_sql[-1][0])=='where')\n",
    "    return q_columns,q_tables,q_conditions\n",
    "#         if token.ttype is Text.Whitespace.Newline:\n",
    "#             print(\"*************\")\n",
    "#         print(token.ttype)\n",
    "#         if token in ['select','from','where','and','or']\n",
    "    \n",
    "#     for qline in parsed_sql.split('\\n'):\n",
    "#         modf_parsed_sql.append(remove_wspaces(sp.parse(qline)))\n",
    "#     qry_outpt = []\n",
    "#     if modf_parsed_sql[0].lower() == 'select':\n",
    "#         qry_output = fn_select(modf_parsed_sql)\n",
    "#     return modf_parsed_sql\n",
    "        "
   ]
  },
  {
   "cell_type": "code",
   "execution_count": 27,
   "metadata": {},
   "outputs": [
    {
     "name": "stdout",
     "output_type": "stream",
     "text": [
      "[<DML 'select' at 0x7F4F2431DBE8>, <Whitespace ' ' at 0x7F4F24319BE8>, <Wildcard '*' at 0x7F4F242C3408>, <Whitespace ' ' at 0x7F4F242C3468>, <Keyword 'from' at 0x7F4F242C34C8>, <Whitespace ' ' at 0x7F4F242C3528>, <IdentifierList 't1, t2' at 0x7F4F242B61B0>, <Whitespace ' ' at 0x7F4F242C3708>, <Where 'where ...' at 0x7F4F242B7DE0>]\n",
      "[<DML 'select' at 0x7F4F2431DBE8>, <Wildcard '*' at 0x7F4F242C3408>, <Keyword 'from' at 0x7F4F242C34C8>, <IdentifierList 't1, t2' at 0x7F4F242B61B0>, <Where 'where ...' at 0x7F4F242B7DE0>]\n",
      "==================== select select Token.Keyword.DML\n",
      "==================== * * Token.Wildcard\n",
      "==================== from from Token.Keyword\n",
      "==================== t1, t2 t1, t2 None\n",
      "==================== where c1=1 and c2=2 where c1=1 and c2=2 None\n",
      "WWWWWW\n",
      "@@@@@@@@@@@ [<Keyword 'where' at 0x7F4F242C3768>, <Whitespace ' ' at 0x7F4F242C37C8>, <Comparison 'c1=1' at 0x7F4F242B60C0>, <Whitespace ' ' at 0x7F4F242C3948>, <Keyword 'and' at 0x7F4F242C39A8>, <Whitespace ' ' at 0x7F4F242C3A08>, <Comparison 'c2=2' at 0x7F4F242B6138>]\n",
      "where Token.Keyword\n",
      "c1=1 None\n",
      "and Token.Keyword\n",
      "c2=2 None\n"
     ]
    },
    {
     "ename": "NameError",
     "evalue": "name 'a' is not defined",
     "output_type": "error",
     "traceback": [
      "\u001b[0;31m---------------------------------------------------------------------------\u001b[0m",
      "\u001b[0;31mNameError\u001b[0m                                 Traceback (most recent call last)",
      "\u001b[0;32m<ipython-input-27-b70ae4193752>\u001b[0m in \u001b[0;36m<module>\u001b[0;34m()\u001b[0m\n\u001b[1;32m      5\u001b[0m \u001b[0mparsed_sql\u001b[0m \u001b[0;34m=\u001b[0m \u001b[0msp\u001b[0m\u001b[0;34m.\u001b[0m\u001b[0mparse\u001b[0m\u001b[0;34m(\u001b[0m\u001b[0mqry_input\u001b[0m\u001b[0;34m)\u001b[0m\u001b[0;34m[\u001b[0m\u001b[0;36m0\u001b[0m\u001b[0;34m]\u001b[0m\u001b[0;34m\u001b[0m\u001b[0m\n\u001b[1;32m      6\u001b[0m \u001b[0mprint\u001b[0m\u001b[0;34m(\u001b[0m\u001b[0mparsed_sql\u001b[0m\u001b[0;34m.\u001b[0m\u001b[0mtokens\u001b[0m\u001b[0;34m)\u001b[0m\u001b[0;34m\u001b[0m\u001b[0m\n\u001b[0;32m----> 7\u001b[0;31m \u001b[0mq_columns\u001b[0m\u001b[0;34m,\u001b[0m\u001b[0mq_tables\u001b[0m\u001b[0;34m,\u001b[0m\u001b[0mq_conditions\u001b[0m \u001b[0;34m=\u001b[0m \u001b[0mprocess_query\u001b[0m\u001b[0;34m(\u001b[0m\u001b[0mparsed_sql\u001b[0m\u001b[0;34m)\u001b[0m\u001b[0;34m\u001b[0m\u001b[0m\n\u001b[0m\u001b[1;32m      8\u001b[0m \u001b[0mprint\u001b[0m\u001b[0;34m(\u001b[0m\u001b[0mq_columns\u001b[0m\u001b[0;34m)\u001b[0m\u001b[0;34m\u001b[0m\u001b[0m\n\u001b[1;32m      9\u001b[0m \u001b[0mprint\u001b[0m\u001b[0;34m(\u001b[0m\u001b[0mq_tables\u001b[0m\u001b[0;34m)\u001b[0m\u001b[0;34m\u001b[0m\u001b[0m\n",
      "\u001b[0;32m<ipython-input-26-d53d0d6e3737>\u001b[0m in \u001b[0;36mprocess_query\u001b[0;34m(parsed_sql)\u001b[0m\n\u001b[1;32m     45\u001b[0m             \u001b[0mprint\u001b[0m\u001b[0;34m(\u001b[0m\u001b[0;34m\"WWWWWW\"\u001b[0m\u001b[0;34m)\u001b[0m\u001b[0;34m\u001b[0m\u001b[0m\n\u001b[1;32m     46\u001b[0m             \u001b[0mcurr_token\u001b[0m \u001b[0;34m=\u001b[0m \u001b[0;34m'where'\u001b[0m\u001b[0;34m\u001b[0m\u001b[0m\n\u001b[0;32m---> 47\u001b[0;31m             \u001b[0mprocess_where\u001b[0m\u001b[0;34m(\u001b[0m\u001b[0mtoken\u001b[0m\u001b[0;34m)\u001b[0m\u001b[0;34m\u001b[0m\u001b[0m\n\u001b[0m\u001b[1;32m     48\u001b[0m             \u001b[0;32mcontinue\u001b[0m\u001b[0;34m\u001b[0m\u001b[0m\n\u001b[1;32m     49\u001b[0m         \u001b[0;32mif\u001b[0m \u001b[0mcurr_token\u001b[0m \u001b[0;34m==\u001b[0m \u001b[0;34m'select'\u001b[0m\u001b[0;34m:\u001b[0m\u001b[0;34m\u001b[0m\u001b[0m\n",
      "\u001b[0;32m<ipython-input-26-d53d0d6e3737>\u001b[0m in \u001b[0;36mprocess_where\u001b[0;34m(where_stmnt)\u001b[0m\n\u001b[1;32m     20\u001b[0m         \u001b[0mprint\u001b[0m\u001b[0;34m(\u001b[0m\u001b[0mw\u001b[0m\u001b[0;34m,\u001b[0m\u001b[0mw\u001b[0m\u001b[0;34m.\u001b[0m\u001b[0mttype\u001b[0m\u001b[0;34m)\u001b[0m\u001b[0;34m\u001b[0m\u001b[0m\n\u001b[1;32m     21\u001b[0m \u001b[0;34m\u001b[0m\u001b[0m\n\u001b[0;32m---> 22\u001b[0;31m     \u001b[0;32mreturn\u001b[0m \u001b[0ma\u001b[0m\u001b[0;34m\u001b[0m\u001b[0m\n\u001b[0m\u001b[1;32m     23\u001b[0m \u001b[0;31m#     curr_token = \"\"\u001b[0m\u001b[0;34m\u001b[0m\u001b[0;34m\u001b[0m\u001b[0m\n\u001b[1;32m     24\u001b[0m \u001b[0;31m#     cndt_and,cndt_or = [],[]\u001b[0m\u001b[0;34m\u001b[0m\u001b[0;34m\u001b[0m\u001b[0m\n",
      "\u001b[0;31mNameError\u001b[0m: name 'a' is not defined"
     ]
    }
   ],
   "source": [
    "# qry_input = input().strip().lower()\n",
    "qry_input = \"select * from t1, t2 where c1=1 and c2=2\".lower()\n",
    "frmt_qry = sp.format(qry_input,reindent=True, keyword_case='upper')\n",
    "# print(frmt_qry[1])\n",
    "parsed_sql = sp.parse(qry_input)[0]\n",
    "print(parsed_sql.tokens)\n",
    "q_columns,q_tables,q_conditions = process_query(parsed_sql)\n",
    "print(q_columns)\n",
    "print(q_tables)\n",
    "print(q_conditions)"
   ]
  },
  {
   "cell_type": "code",
   "execution_count": 41,
   "metadata": {},
   "outputs": [
    {
     "name": "stdout",
     "output_type": "stream",
     "text": [
      "c=0\n"
     ]
    }
   ],
   "source": [
    "# qry_input = input().strip()\n",
    "# parsed_sql = sp.parse(qry_input)[0]\n",
    "# print(parsed_sql)\n",
    "# print(parsed_sql.tokens)\n",
    "# print(sp.split(qry_input))\n",
    "# print(qry_output[0])\n",
    "# print(qry_output[1][0])\n",
    "print(qry_output[4][2])"
   ]
  },
  {
   "cell_type": "code",
   "execution_count": 30,
   "metadata": {},
   "outputs": [
    {
     "name": "stdout",
     "output_type": "stream",
     "text": [
      " \n",
      "<generator object TokenList.flatten at 0x7f82841600f8>\n",
      "select\n",
      "w\n",
      " \n",
      "a, b\n",
      "w\n",
      " \n",
      "from\n",
      "w\n",
      " \n",
      "tab1,tab2\n"
     ]
    }
   ],
   "source": [
    "print(parsed_sql.tokens[1])\n",
    "print(parsed_sql.flatten())\n",
    "for token in parsed_sql.tokens:\n",
    "    if(token.is_whitespace):\n",
    "        print(\"w\")\n",
    "    print(token)"
   ]
  },
  {
   "cell_type": "code",
   "execution_count": null,
   "metadata": {},
   "outputs": [],
   "source": []
  }
 ],
 "metadata": {
  "kernelspec": {
   "display_name": "Python 3",
   "language": "python",
   "name": "python3"
  },
  "language_info": {
   "codemirror_mode": {
    "name": "ipython",
    "version": 3
   },
   "file_extension": ".py",
   "mimetype": "text/x-python",
   "name": "python",
   "nbconvert_exporter": "python",
   "pygments_lexer": "ipython3",
   "version": "3.6.5"
  }
 },
 "nbformat": 4,
 "nbformat_minor": 2
}
