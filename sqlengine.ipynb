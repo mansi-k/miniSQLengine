{
 "cells": [
  {
   "cell_type": "code",
   "execution_count": 120,
   "metadata": {},
   "outputs": [],
   "source": [
    "import csv\n",
    "import sqlparse as sp\n",
    "from sqlparse.sql import IdentifierList, Identifier\n",
    "from sqlparse.tokens import Keyword, DML, Newline, Whitespace, Text"
   ]
  },
  {
   "cell_type": "code",
   "execution_count": 18,
   "metadata": {},
   "outputs": [],
   "source": [
    "'''Data loading functions'''\n",
    "\n",
    "def extract_metadata():\n",
    "    path = \"\"\n",
    "    metafile = open('files/metadata.txt', 'r') \n",
    "    metalines = metafile.readlines() \n",
    "    tables_dict = {}\n",
    "    tables_meta = {}\n",
    "    tables_list = {}\n",
    "    is_rec = False\n",
    "    is_tname = False\n",
    "    cur_table = \"\"\n",
    "    for line in metalines:\n",
    "        if line.startswith('<begin_table>'):\n",
    "            is_rec = True\n",
    "            is_tname = True\n",
    "        elif line.startswith('<end_table>'):\n",
    "            if_rec = False\n",
    "        elif is_tname:\n",
    "            cur_table = str(line).strip()\n",
    "            tables_dict[cur_table] = {}\n",
    "            tables_meta[cur_table] = []\n",
    "            tables_list[cur_table] = []\n",
    "            is_tname = False\n",
    "        else:\n",
    "            tables_dict[cur_table][str(line).strip()] = []\n",
    "            tables_meta[cur_table].append(str(line).strip())\n",
    "    return tables_meta,tables_dict,tables_list\n",
    "            \n",
    "def extract_csvdata_bycols(tables_dict):\n",
    "    tables_data = tables_dict\n",
    "    for tn,cl in tables_dict.items(): \n",
    "        with open('files/'+tn+'.csv', newline='') as table_file:\n",
    "            all_data = csv.reader(table_file,delimiter=',')\n",
    "#             print(all_data)\n",
    "            for row in all_data:\n",
    "                for c,i in zip(cl,range(len(cl))):\n",
    "                    tables_data[tn][c].append(int(row[i]))\n",
    "    return tables_data\n",
    "\n",
    "def extract_csvdata_byrows(tables_list):\n",
    "    tables_data = tables_list\n",
    "    for tn in tables_list: \n",
    "        with open('files/'+tn+'.csv', newline='') as table_file:\n",
    "            all_data = csv.reader(table_file,delimiter=',')\n",
    "#             print(all_data)\n",
    "            for row in all_data:\n",
    "                tables_data[tn].append([int(x) for x in row])\n",
    "    return tables_data\n",
    "    "
   ]
  },
  {
   "cell_type": "code",
   "execution_count": 20,
   "metadata": {},
   "outputs": [
    {
     "name": "stdout",
     "output_type": "stream",
     "text": [
      "{'table1': ['A', 'B', 'C'], 'table2': ['D', 'E']}\n",
      "{'table1': [], 'table2': []}\n",
      "{'table1': {'A': [922, 640, 775, -551, -952, -354, -497, 411, -900, 858], 'B': [158, 773, 85, 811, 311, 646, 335, 803, 718, 731], 'C': [5727, 5058, 10164, 1534, 1318, 7063, 4549, 10519, 9020, 3668]}, 'table2': {'D': [158, 773, 85, 811, 311, 646, 335, 803, 718, 731], 'E': [11191, 14421, 5117, 13393, 16116, 5403, 6309, 12262, 10226, 13021]}}\n",
      "{'table1': [[922, 158, 5727], [640, 773, 5058], [775, 85, 10164], [-551, 811, 1534], [-952, 311, 1318], [-354, 646, 7063], [-497, 335, 4549], [411, 803, 10519], [-900, 718, 9020], [858, 731, 3668]], 'table2': [[158, 11191], [773, 14421], [85, 5117], [811, 13393], [311, 16116], [646, 5403], [335, 6309], [803, 12262], [718, 10226], [731, 13021]]}\n"
     ]
    }
   ],
   "source": [
    "tables_meta,tables_dict,tables_list = extract_metadata()\n",
    "print(tables_meta)\n",
    "print(tables_list)\n",
    "tables_data_bycols = extract_csvdata_bycols(tables_dict)\n",
    "print(tables_data_bycols)\n",
    "tables_data_byrows = extract_csvdata_byrows(tables_list)\n",
    "print(tables_data_byrows)"
   ]
  },
  {
   "cell_type": "code",
   "execution_count": 178,
   "metadata": {},
   "outputs": [],
   "source": [
    "'''SQL functions'''\n",
    "\n",
    "def remove_wspaces(parsed_sql):\n",
    "    modf_parsed_sql = []\n",
    "    for token in parsed_sql:\n",
    "        if token.is_whitespace:\n",
    "            continue\n",
    "        modf_parsed_sql.append(token)\n",
    "    return modf_parsed_sql\n",
    "\n",
    "# def fn_select(qry_token_list):\n",
    "\n",
    "\n",
    "def process_where(where_stmnt):\n",
    "    where_stmnt = sp.parse(where_stmnt)[0]\n",
    "    modf_where_stmnt = remove_wspaces(where_stmnt)\n",
    "    return []\n",
    "#     curr_token = \"\"\n",
    "#     cndt_and,cndt_or = [],[]\n",
    "#     for token in \n",
    "    \n",
    "    \n",
    "\n",
    "def process_query(parsed_sql):\n",
    "    modf_parsed_sql = remove_wspaces(parsed_sql)\n",
    "    print(modf_parsed_sql)\n",
    "    curr_token = \"\"\n",
    "    q_columns,q_tables,q_conditions = [],[],[]\n",
    "    for token in modf_parsed_sql:\n",
    "#         print('====================',token.value,token.ttype)\n",
    "        if token.ttype is DML and token.value == 'select':\n",
    "            curr_token = 'select'\n",
    "            continue\n",
    "        if token.ttype is Keyword and token.value == 'from':\n",
    "#             print('fffffffffffff')\n",
    "            curr_token = 'from'\n",
    "            continue\n",
    "        if curr_token == 'select':\n",
    "            q_columns = token\n",
    "        elif curr_token == 'from':\n",
    "#             print(\"++++++++\",token)\n",
    "            q_tables = token\n",
    "            curr_token = 'where'\n",
    "        elif curr_token == 'where':\n",
    "            q_conditions = []\n",
    "#     print(\"%%%%%%%%%%%%\",str(modf_parsed_sql[-1][0])=='where')\n",
    "    return q_columns,q_tables,q_conditions\n",
    "#         if token.ttype is Text.Whitespace.Newline:\n",
    "#             print(\"*************\")\n",
    "#         print(token.ttype)\n",
    "#         if token in ['select','from','where','and','or']\n",
    "    \n",
    "#     for qline in parsed_sql.split('\\n'):\n",
    "#         modf_parsed_sql.append(remove_wspaces(sp.parse(qline)))\n",
    "#     qry_outpt = []\n",
    "#     if modf_parsed_sql[0].lower() == 'select':\n",
    "#         qry_output = fn_select(modf_parsed_sql)\n",
    "#     return modf_parsed_sql\n",
    "        "
   ]
  },
  {
   "cell_type": "code",
   "execution_count": 179,
   "metadata": {},
   "outputs": [
    {
     "name": "stdout",
     "output_type": "stream",
     "text": [
      "[<DML 'select' at 0x7F82841C0B28>, <Wildcard '*' at 0x7F82840B38E8>, <Keyword 'from' at 0x7F82840B3408>, <IdentifierList 't1, t2' at 0x7F82840B0480>, <Where 'where ...' at 0x7F8284121480>]\n",
      "*\n",
      "t1, t2\n",
      "[]\n"
     ]
    }
   ],
   "source": [
    "# qry_input = input().strip().lower()\n",
    "qry_input = \"select * from t1, t2 where c1=1 and c2=2\".lower()\n",
    "frmt_qry = sp.format(qry_input,reindent=True, keyword_case='upper')\n",
    "# print(frmt_qry[1])\n",
    "parsed_sql = sp.parse(qry_input)[0]\n",
    "# print(parsed_sql.tokens)\n",
    "q_columns,q_tables,q_conditions = process_query(parsed_sql)\n",
    "print(q_columns)\n",
    "print(q_tables)\n",
    "print(q_conditions)"
   ]
  },
  {
   "cell_type": "code",
   "execution_count": 41,
   "metadata": {},
   "outputs": [
    {
     "name": "stdout",
     "output_type": "stream",
     "text": [
      "c=0\n"
     ]
    }
   ],
   "source": [
    "# qry_input = input().strip()\n",
    "# parsed_sql = sp.parse(qry_input)[0]\n",
    "# print(parsed_sql)\n",
    "# print(parsed_sql.tokens)\n",
    "# print(sp.split(qry_input))\n",
    "# print(qry_output[0])\n",
    "# print(qry_output[1][0])\n",
    "print(qry_output[4][2])"
   ]
  },
  {
   "cell_type": "code",
   "execution_count": 30,
   "metadata": {},
   "outputs": [
    {
     "name": "stdout",
     "output_type": "stream",
     "text": [
      " \n",
      "<generator object TokenList.flatten at 0x7f82841600f8>\n",
      "select\n",
      "w\n",
      " \n",
      "a, b\n",
      "w\n",
      " \n",
      "from\n",
      "w\n",
      " \n",
      "tab1,tab2\n"
     ]
    }
   ],
   "source": [
    "print(parsed_sql.tokens[1])\n",
    "print(parsed_sql.flatten())\n",
    "for token in parsed_sql.tokens:\n",
    "    if(token.is_whitespace):\n",
    "        print(\"w\")\n",
    "    print(token)"
   ]
  },
  {
   "cell_type": "code",
   "execution_count": null,
   "metadata": {},
   "outputs": [],
   "source": []
  }
 ],
 "metadata": {
  "kernelspec": {
   "display_name": "Python 3",
   "language": "python",
   "name": "python3"
  },
  "language_info": {
   "codemirror_mode": {
    "name": "ipython",
    "version": 3
   },
   "file_extension": ".py",
   "mimetype": "text/x-python",
   "name": "python",
   "nbconvert_exporter": "python",
   "pygments_lexer": "ipython3",
   "version": "3.6.5"
  }
 },
 "nbformat": 4,
 "nbformat_minor": 2
}
